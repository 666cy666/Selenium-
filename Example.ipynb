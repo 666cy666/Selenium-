{
 "cells": [
  {
   "cell_type": "markdown",
   "source": [
    "# 初始化驱动和加载器，初次使用请在参数中加入 update=True更新驱动，该参数将自动匹配适合本机的selenium驱动"
   ],
   "metadata": {
    "collapsed": false,
    "pycharm": {
     "name": "#%% md\n"
    }
   }
  },
  {
   "cell_type": "code",
   "execution_count": 1,
   "outputs": [
    {
     "name": "stdout",
     "output_type": "stream",
     "text": [
      "下载目录:\n",
      "F:\\项目\\我的github仓库\\Selenium_Util\n"
     ]
    }
   ],
   "source": [
    "from Selenium_Util import Selenium_Edge\n",
    "from selenium.webdriver.common.by import By\n",
    "edge_driver = Selenium_Edge(update=False)"
   ],
   "metadata": {
    "collapsed": false,
    "pycharm": {
     "name": "#%%\n"
    }
   }
  },
  {
   "cell_type": "markdown",
   "source": [
    "# 爬取相应文字和图片，这里我们以百度为例"
   ],
   "metadata": {
    "collapsed": false,
    "pycharm": {
     "name": "#%% md\n"
    }
   }
  },
  {
   "cell_type": "code",
   "execution_count": 2,
   "outputs": [],
   "source": [
    "# 打开相应网址\n",
    "edge_driver.get_driver('https://www.baidu.com')"
   ],
   "metadata": {
    "collapsed": false,
    "pycharm": {
     "name": "#%%\n"
    }
   }
  },
  {
   "cell_type": "markdown",
   "source": [
    "# 几种通过xpath找元素的形式，函数名中带element下标的皆为用装饰器装饰的函数，可只传入xpath，无element下标的函数与原selenium函数无异，需要先获取元素再将参数传入，具体请看如下示例"
   ],
   "metadata": {
    "collapsed": false,
    "pycharm": {
     "name": "#%% md\n"
    }
   }
  },
  {
   "cell_type": "code",
   "execution_count": 3,
   "outputs": [],
   "source": [
    "# 直接输入xpath\n",
    "edge_driver.input_element_text('//*[@id=\"kw\"]',text=\"selenium\")"
   ],
   "metadata": {
    "collapsed": false,
    "pycharm": {
     "name": "#%%\n"
    }
   }
  },
  {
   "cell_type": "code",
   "execution_count": 8,
   "outputs": [],
   "source": [
    "# 通过指定xpath_kind，这里以id为例\n",
    "edge_driver.input_element_text(xpath_kind=By.ID, xpath='kw',text=\"ID\")"
   ],
   "metadata": {
    "collapsed": false,
    "pycharm": {
     "name": "#%%\n"
    }
   }
  },
  {
   "cell_type": "code",
   "execution_count": 9,
   "outputs": [],
   "source": [
    "# 通过指定xpath_kind，这里以CLASS_NAME为例\n",
    "edge_driver.input_element_text(xpath_kind=By.CLASS_NAME, xpath='s_ipt',text=\"CLASS_NAME\")"
   ],
   "metadata": {
    "collapsed": false,
    "pycharm": {
     "name": "#%%\n"
    }
   }
  },
  {
   "cell_type": "code",
   "execution_count": 10,
   "outputs": [],
   "source": [
    "# 通过先抓取父元素,再指定父元素相对定位（在页面有弹窗时可以避免xpath绝对定位时导致的偏移，可以和xpath_kind复用，一般都是先找class_name抓到父元素，再在父元素下找对应的子元素）\n",
    "father_element = edge_driver.get_element('//*[@id=\"form\"]/span[1]')\n",
    "edge_driver.input_element_text(father_element=father_element,xpath='./input',text=\"father_element\")"
   ],
   "metadata": {
    "collapsed": false,
    "pycharm": {
     "name": "#%%\n"
    }
   }
  },
  {
   "cell_type": "code",
   "execution_count": 11,
   "outputs": [],
   "source": [
    "# 通过批量抓取元素\n",
    "elements = edge_driver.get_elements(xpath_kind=By.CLASS_NAME, xpath='s_ipt')\n",
    "# 注意这里时不带element下标的函数，意味着需要提前抓取元素\n",
    "edge_driver.input_text(elements[0],text=\"elements\")"
   ],
   "metadata": {
    "collapsed": false,
    "pycharm": {
     "name": "#%%\n"
    }
   }
  },
  {
   "cell_type": "markdown",
   "source": [
    "# 点击元素，与input_element_text类似，这里以点击百度搜索按钮为例"
   ],
   "metadata": {
    "collapsed": false,
    "pycharm": {
     "name": "#%% md\n"
    }
   }
  },
  {
   "cell_type": "code",
   "execution_count": 4,
   "outputs": [],
   "source": [
    "edge_driver.input_element_text('//*[@id=\"kw\"]',text=\"selenium\")\n",
    "edge_driver.click_element('//*[@id=\"su\"]')"
   ],
   "metadata": {
    "collapsed": false,
    "pycharm": {
     "name": "#%%\n"
    }
   }
  },
  {
   "cell_type": "code",
   "execution_count": 5,
   "outputs": [
    {
     "name": "stdout",
     "output_type": "stream",
     "text": [
      "['生词本\\nselenium - 百度翻译\\n\\ue734\\n硒\\n常见释义\\n英[səˈliːniəm]\\n慢\\n美[səˈliːniəm]\\n慢\\nn.\\n硒(化学元素，用于制造电气设备和有色玻璃，人体缺此元素可致抑郁等病);\\n例句\\nStudy on Synthesis of Environmental Organic Selenium Compound and Its Characters\\n环保型有机硒化合物的合成及性能研究\\n\\ue734\\n试试文档翻译\\n下载百度翻译桌面端（支持win版/mac版）\\n\\ue6b3', '大家还在搜\\n软件自动化测试工具有哪些python自动化selenium框架爬虫工具selenium的使用方法爬虫selenium容易被识别吗selenium面试题及答案selenium文档', 'selenium八爪鱼,一款可视化的网页数据采集神器\\nselenium八爪鱼,可自动采集任意网站数据,傻瓜式操作免编程,免费下载八爪鱼,支持自动云采集,关机断电都可采集网站数据,百万用户的选择\\n产品功能:云采集智能防封400+采集模版一键导出数据更多》\\n海量采集模板\\n零门槛三步获取数据\\n智能识别采集元素\\n百万用户的选择\\n云采集\\n7×24小时稳定采集\\n支持私有化部署\\n软件OEM,永久授权\\n查看更多相关信息>>\\n数阔八爪鱼 2024-07\\ue62b广告']\n"
     ]
    }
   ],
   "source": [
    "# 获取父元素\n",
    "info_list_father = edge_driver.get_element('//*[@id=\"content_left\"]')\n",
    "# 获取父元素下的所有子元素，这里以获取所有搜索结果为例\n",
    "info_list = edge_driver.get_elements(father_element=info_list_father,xpath='./div')\n",
    "# 获取父元素下./div元素的文字信息\n",
    "info_list_text = edge_driver.get_elements_text(father_element=info_list_father,xpath='./div')\n",
    "# 尝试打印，其实到这里已经差不多完成了\n",
    "print(info_list_text[:3])"
   ],
   "metadata": {
    "collapsed": false,
    "pycharm": {
     "name": "#%%\n"
    }
   }
  },
  {
   "cell_type": "markdown",
   "source": [
    "# 批量爬取元素"
   ],
   "metadata": {
    "collapsed": false,
    "pycharm": {
     "name": "#%% md\n"
    }
   }
  },
  {
   "cell_type": "code",
   "execution_count": 12,
   "outputs": [
    {
     "name": "stdout",
     "output_type": "stream",
     "text": [
      "False False\n",
      "Selenium http://www.baidu.com/link?url=mSw9v0U3-70ku75zyu8qhoQ7z0gKEfDpZHGbBATYimDZNCypJ7xlNuQIuLAElMkf\n",
      "selenium是什么意思_selenium的翻译_音标_读音_用法_例句... http://www.baidu.com/link?url=XWnVq8s_a3vvjgdhseeAqoDEA16JGNdsQjZa4k4Flhh2JstwdXQDyLzP4KdiqSG3\n",
      "Python爬虫基础之Selenium详解_python selenium-CSDN博客 http://www.baidu.com/link?url=_eqn5LDPPuCjccWFHnxPbBXiykn08xawnnDiv-KZqRIYe-IxOSp0zR_YI8o0EaTehtoG_XN0RXzndJPoSVBUD9sNaZQ56cVz2JOhqTsusKi\n",
      "selenium详解(完整版)-CSDN博客 http://www.baidu.com/link?url=rivhW_6iVT5BmVKT4zoga4vpfNYF0aNg1NDBHkjk8rCmnVOKUYJVlZ217CAkMMI2ss1j5-vRpVU1Pbta0TKW3zdga2xncGA2Wbg2JNYo99m\n",
      "介绍| Selenium 中文文档 http://www.baidu.com/link?url=69ppUte2o9fACN0MNeaNzQuQvIodCxXNjMxtYxLlzZe6WBpylUzq5yNfFhMNvy-KAdC63klBTYngfph7QZLH1n2dLmFp9T3Q-3txuTJr9mUUEo7Jp2otzvPKEdaNR5Bb\n",
      "自动化测试工具:Selenium详解-CSDN博客 http://www.baidu.com/link?url=rivhW_6iVT5BmVKT4zogaGjj8vp3_liQqG4OVLnKjaVjladUedjTgAAXRRKoCFVMJbB-Zn8Hkwsh8K31vgOcFs1lzs9y8eiOndT309evF73\n"
     ]
    }
   ],
   "source": [
    "# 初步提取信息\n",
    "for info in info_list[3:]:\n",
    "    container = edge_driver.get_element(father_element=info,xpath_kind=By.CLASS_NAME,xpath='c-container',timeout=1)\n",
    "    # 这里可以打印一下看看结果，由于页面中结构不一样，有部分结构爬取不到出现false是正常的，这个时候可以过滤\n",
    "    # print(container)\n",
    "    if container:\n",
    "        # 同样可以打印一下看看结果\n",
    "        # print(edge_driver.get_text(container))\n",
    "        href_text = edge_driver.get_element_text(father_element=container,xpath='./div[1]/h3/a',timeout=1)\n",
    "        href = edge_driver.get_element_attribute(father_element=container,xpath='./div[1]/h3/a',attribute='href',timeout=1)\n",
    "        print(href_text,href)"
   ],
   "metadata": {
    "collapsed": false,
    "pycharm": {
     "name": "#%%\n"
    }
   }
  },
  {
   "cell_type": "code",
   "execution_count": 30,
   "outputs": [
    {
     "name": "stdout",
     "output_type": "stream",
     "text": [
      "[{'title': 'Selenium', 'href': 'http://www.baidu.com/link?url=mSw9v0U3-70ku75zyu8qhoQ7z0gKEfDpZHGbBATYimDZNCypJ7xlNuQIuLAElMkf'}, {'title': 'selenium是什么意思_selenium的翻译_音标_读音_用法_例句...', 'href': 'http://www.baidu.com/link?url=XWnVq8s_a3vvjgdhseeAqoDEA16JGNdsQjZa4k4Flhh2JstwdXQDyLzP4KdiqSG3'}, {'title': 'Python爬虫基础之Selenium详解_python selenium-CSDN博客', 'href': 'http://www.baidu.com/link?url=_eqn5LDPPuCjccWFHnxPbBXiykn08xawnnDiv-KZqRIYe-IxOSp0zR_YI8o0EaTehtoG_XN0RXzndJPoSVBUD9sNaZQ56cVz2JOhqTsusKi'}, {'title': 'selenium详解(完整版)-CSDN博客', 'href': 'http://www.baidu.com/link?url=rivhW_6iVT5BmVKT4zoga4vpfNYF0aNg1NDBHkjk8rCmnVOKUYJVlZ217CAkMMI2ss1j5-vRpVU1Pbta0TKW3zdga2xncGA2Wbg2JNYo99m'}, {'title': '介绍| Selenium 中文文档', 'href': 'http://www.baidu.com/link?url=69ppUte2o9fACN0MNeaNzQuQvIodCxXNjMxtYxLlzZe6WBpylUzq5yNfFhMNvy-KAdC63klBTYngfph7QZLH1n2dLmFp9T3Q-3txuTJr9mUUEo7Jp2otzvPKEdaNR5Bb'}, {'title': '自动化测试工具:Selenium详解-CSDN博客', 'href': 'http://www.baidu.com/link?url=rivhW_6iVT5BmVKT4zogaGjj8vp3_liQqG4OVLnKjaVjladUedjTgAAXRRKoCFVMJbB-Zn8Hkwsh8K31vgOcFs1lzs9y8eiOndT309evF73'}]\n"
     ]
    }
   ],
   "source": [
    "# 精细化爬取封装合并\n",
    "selenium_info_list = []\n",
    "for info in info_list:\n",
    "    container = edge_driver.get_element(father_element=info,xpath_kind=By.CLASS_NAME,xpath='c-container',timeout=1)\n",
    "    if container:\n",
    "        title = edge_driver.get_element_text(father_element=container,xpath='./div[1]/h3/a',timeout=1)\n",
    "        href = edge_driver.get_element_attribute(father_element=container,xpath='./div[1]/h3/a',attribute='href',timeout=1)\n",
    "        #过滤元素\n",
    "        if title or href:\n",
    "            selenium_info = {\n",
    "                'title':title,\n",
    "                'href':href\n",
    "            }\n",
    "            selenium_info_list.append(selenium_info)\n",
    "print(selenium_info_list)"
   ],
   "metadata": {
    "collapsed": false,
    "pycharm": {
     "name": "#%%\n"
    }
   }
  },
  {
   "cell_type": "code",
   "execution_count": 29,
   "outputs": [
    {
     "name": "stdout",
     "output_type": "stream",
     "text": [
      "[{'href': 'http://www.baidu.com/link?url=mSw9v0U3-70ku75zyu8qhoQ7z0gKEfDpZHGbBATYimDZNCypJ7xlNuQIuLAElMkf',\n",
      "  'title': 'Selenium'},\n",
      " {'href': 'http://www.baidu.com/link?url=XWnVq8s_a3vvjgdhseeAqoDEA16JGNdsQjZa4k4Flhh2JstwdXQDyLzP4KdiqSG3',\n",
      "  'title': 'selenium是什么意思_selenium的翻译_音标_读音_用法_例句...'},\n",
      " {'href': 'http://www.baidu.com/link?url=_eqn5LDPPuCjccWFHnxPbBXiykn08xawnnDiv-KZqRIYe-IxOSp0zR_YI8o0EaTehtoG_XN0RXzndJPoSVBUD9sNaZQ56cVz2JOhqTsusKi',\n",
      "  'title': 'Python爬虫基础之Selenium详解_python selenium-CSDN博客'},\n",
      " {'href': 'http://www.baidu.com/link?url=rivhW_6iVT5BmVKT4zoga4vpfNYF0aNg1NDBHkjk8rCmnVOKUYJVlZ217CAkMMI2ss1j5-vRpVU1Pbta0TKW3zdga2xncGA2Wbg2JNYo99m',\n",
      "  'title': 'selenium详解(完整版)-CSDN博客'},\n",
      " {'href': 'http://www.baidu.com/link?url=69ppUte2o9fACN0MNeaNzQuQvIodCxXNjMxtYxLlzZe6WBpylUzq5yNfFhMNvy-KAdC63klBTYngfph7QZLH1n2dLmFp9T3Q-3txuTJr9mUUEo7Jp2otzvPKEdaNR5Bb',\n",
      "  'title': '介绍| Selenium 中文文档'},\n",
      " {'href': 'http://www.baidu.com/link?url=rivhW_6iVT5BmVKT4zogaGjj8vp3_liQqG4OVLnKjaVjladUedjTgAAXRRKoCFVMJbB-Zn8Hkwsh8K31vgOcFs1lzs9y8eiOndT309evF73',\n",
      "  'title': '自动化测试工具:Selenium详解-CSDN博客'}]\n"
     ]
    }
   ],
   "source": [
    "from pprint import pprint\n",
    "pprint(selenium_info_list)"
   ],
   "metadata": {
    "collapsed": false,
    "pycharm": {
     "name": "#%%\n"
    }
   }
  }
 ],
 "metadata": {
  "kernelspec": {
   "display_name": "Python 3",
   "language": "python",
   "name": "python3"
  },
  "language_info": {
   "codemirror_mode": {
    "name": "ipython",
    "version": 2
   },
   "file_extension": ".py",
   "mimetype": "text/x-python",
   "name": "python",
   "nbconvert_exporter": "python",
   "pygments_lexer": "ipython2",
   "version": "2.7.6"
  }
 },
 "nbformat": 4,
 "nbformat_minor": 0
}